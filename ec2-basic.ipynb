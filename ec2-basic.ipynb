{
 "cells": [
  {
   "cell_type": "markdown",
   "metadata": {},
   "source": [
    "#AWS EC2 With Boto3  \n",
    "EC2 = Elastic Compute Cloud\n",
    "\n",
    "####Tasks:\n",
    "1. Get EC2 Info\n",
    "2. Create Key Pair and save the PEM file\n",
    "3. Create Security Group and Inbound rule\n",
    "4. Create EC2\n",
    "5. Start/Stop/Reboot EC2\n",
    "6. Terminate Instance\n",
    "7. Clean up"
   ]
  },
  {
   "cell_type": "markdown",
   "metadata": {},
   "source": [
    "Task 1: Getting information about existing EC2 instances"
   ]
  },
  {
   "cell_type": "code",
   "execution_count": null,
   "metadata": {},
   "outputs": [],
   "source": [
    "import boto3\n",
    "ec2 = boto3.client(\"ec2\")\n",
    "ec2.describe_instances()"
   ]
  },
  {
   "cell_type": "markdown",
   "metadata": {},
   "source": [
    "Task 2: Create Key Pair and save the PEM file"
   ]
  },
  {
   "cell_type": "code",
   "execution_count": null,
   "metadata": {},
   "outputs": [],
   "source": [
    "import boto3\n",
    "ec2 = boto3.client(\"ec2\")\n",
    "\n",
    "#Delete if already exists\n",
    "ec2.delete_key_pair(KeyName=\"ec2-boto3\")\n",
    "\n",
    "#Create a new key pair\n",
    "keypair=ec2.create_key_pair(KeyName=\"ec2-boto3\")\n",
    "\n",
    "#Save to a file\n",
    "file = open(\"ec2-boto3.pem\",\"w\")\n",
    "file.write(keypair[\"KeyMaterial\"])\n",
    "file.close()"
   ]
  },
  {
   "cell_type": "markdown",
   "metadata": {},
   "source": [
    "Task 3: Create Security Group and Inbound rule"
   ]
  },
  {
   "cell_type": "code",
   "execution_count": null,
   "metadata": {},
   "outputs": [],
   "source": [
    "import boto3\n",
    "ec2 = boto3.client(\"ec2\")\n",
    "\n",
    "# ec2.describe_security_groups()\n",
    "\n",
    "#Delete if already exists\n",
    "ec2.delete_security_group(GroupName=\"ec2-boto3-sg\")\n",
    "\n",
    "# create security group\n",
    "sg = ec2.create_security_group(\n",
    "    GroupName=\"ec2-boto3-sg\",\n",
    "    Description=\"ec2-boto3 security group\",\n",
    "    VpcId=\"vpc-02374f6cedca75b8a\"\n",
    ")\n",
    "\n",
    "# get group id\n",
    "groupid = sg[\"GroupId\"]\n",
    "\n",
    "# add ingress rule for http and ssh\n",
    "ec2.authorize_security_group_ingress(\n",
    "    GroupId=groupid,    \n",
    "    IpPermissions=[{\n",
    "        \"IpProtocol\":\"tcp\",\n",
    "        \"IpRanges\": [{\"CidrIp\":\"0.0.0.0/0\"}],\n",
    "        \"FromPort\":80,\n",
    "        \"ToPort\":80\n",
    "    },{\n",
    "        \"IpProtocol\":\"tcp\",\n",
    "        \"IpRanges\": [{\"CidrIp\":\"0.0.0.0/0\"}],\n",
    "        \"FromPort\":22,\n",
    "        \"ToPort\":22\n",
    "    }]\n",
    ")"
   ]
  },
  {
   "cell_type": "markdown",
   "metadata": {},
   "source": [
    "Task 4: Create EC2 (with EBS volume)"
   ]
  },
  {
   "cell_type": "code",
   "execution_count": null,
   "metadata": {},
   "outputs": [],
   "source": [
    "import boto3\n",
    "\n",
    "#NEED to use Resource here, not client\n",
    "ec2_res = boto3.resource(\"ec2\")\n",
    "\n",
    "#Create instance\n",
    "instance = ec2_res.create_instances(\n",
    "    ImageId=\"ami-0a4e637babb7b0a86\",\n",
    "    MinCount=1,\n",
    "    MaxCount=1,\n",
    "    InstanceType=\"t2.micro\",\n",
    "    KeyName=\"ec2-boto3\",\n",
    "    SecurityGroups=[\"ec2-boto3-sg\"],\n",
    "    BlockDeviceMappings=[\n",
    "        {\n",
    "            \"DeviceName\":\"/dev/xvda\",\n",
    "            \"Ebs\":{\n",
    "                \"DeleteOnTermination\": True,\n",
    "                \"VolumeSize\":10\n",
    "            }\n",
    "        }\n",
    "    ]\n",
    ")"
   ]
  },
  {
   "cell_type": "markdown",
   "metadata": {},
   "source": [
    "Task 5: Start/Stop EC2 Instances"
   ]
  },
  {
   "cell_type": "code",
   "execution_count": null,
   "metadata": {},
   "outputs": [],
   "source": [
    "import boto3\n",
    "ec2 = boto3.client(\"ec2\")\n",
    "\n",
    "#Stop instance\n",
    "ec2.stop_instances(InstanceIds=[\"i-0925e872543eb83f8\"])\n",
    "\n",
    "#Start instance\n",
    "ec2.start_instances(InstanceIds=[\"i-0925e872543eb83f8\"])"
   ]
  },
  {
   "cell_type": "markdown",
   "metadata": {},
   "source": [
    "Task 6: Terminate Instance"
   ]
  },
  {
   "cell_type": "code",
   "execution_count": null,
   "metadata": {},
   "outputs": [],
   "source": [
    "import boto3\n",
    "ec2 = boto3.client(\"ec2\")\n",
    "\n",
    "#Terminate instance\n",
    "ec2.terminate_instances(InstanceIds=[\"i-0925e872543eb83f8\"])"
   ]
  },
  {
   "cell_type": "markdown",
   "metadata": {},
   "source": [
    "Task 7: Clean up"
   ]
  },
  {
   "cell_type": "code",
   "execution_count": 26,
   "metadata": {},
   "outputs": [
    {
     "data": {
      "text/plain": [
       "{'ResponseMetadata': {'RequestId': 'f27e1d88-960b-44cb-8e06-ee47080d46cb',\n",
       "  'HTTPStatusCode': 200,\n",
       "  'HTTPHeaders': {'x-amzn-requestid': 'f27e1d88-960b-44cb-8e06-ee47080d46cb',\n",
       "   'cache-control': 'no-cache, no-store',\n",
       "   'strict-transport-security': 'max-age=31536000; includeSubDomains',\n",
       "   'content-type': 'text/xml;charset=UTF-8',\n",
       "   'content-length': '239',\n",
       "   'date': 'Mon, 28 Feb 2022 12:08:33 GMT',\n",
       "   'server': 'AmazonEC2'},\n",
       "  'RetryAttempts': 0}}"
      ]
     },
     "execution_count": 26,
     "metadata": {},
     "output_type": "execute_result"
    }
   ],
   "source": [
    "#Delete other stuff\n",
    "ec2.delete_key_pair(KeyName=\"ec2-boto3\")\n",
    "ec2.delete_security_group(GroupName=\"ec2-boto3-sg\")"
   ]
  }
 ],
 "metadata": {
  "interpreter": {
   "hash": "97cc609b13305c559618ec78a438abc56230b9381f827f22d070313b9a1f3777"
  },
  "kernelspec": {
   "display_name": "Python 3.10.0 64-bit",
   "language": "python",
   "name": "python3"
  },
  "language_info": {
   "codemirror_mode": {
    "name": "ipython",
    "version": 3
   },
   "file_extension": ".py",
   "mimetype": "text/x-python",
   "name": "python",
   "nbconvert_exporter": "python",
   "pygments_lexer": "ipython3",
   "version": "3.10.0"
  },
  "orig_nbformat": 4
 },
 "nbformat": 4,
 "nbformat_minor": 2
}
